{
  "nbformat": 4,
  "nbformat_minor": 0,
  "metadata": {
    "colab": {
      "provenance": [],
      "gpuType": "T4"
    },
    "kernelspec": {
      "name": "python3",
      "display_name": "Python 3"
    },
    "language_info": {
      "name": "python"
    },
    "accelerator": "GPU"
  },
  "cells": [
    {
      "cell_type": "code",
      "execution_count": null,
      "metadata": {
        "id": "p1gZYABG5i5J"
      },
      "outputs": [],
      "source": [
        "!pip install accelerate==0.27.2"
      ]
    },
    {
      "cell_type": "code",
      "source": [
        "!mkdir -p contents"
      ],
      "metadata": {
        "id": "1lMRKuxb6HND"
      },
      "execution_count": 2,
      "outputs": []
    },
    {
      "cell_type": "code",
      "source": [
        "import os\n",
        "import argparse\n",
        "from typing import Dict, Tuple\n",
        "import numpy as np\n",
        "import torch\n",
        "import torch.nn as nn\n",
        "from accelerate import Accelerator\n",
        "from tqdm import tqdm\n",
        "from torch.utils.data import DataLoader\n",
        "from torchvision import transforms\n",
        "from torchvision.datasets import MNIST\n",
        "from torchvision.utils import save_image, make_grid\n",
        "from torchvision.models import inception_v3\n",
        "import torch\n",
        "import torch.nn.functional as F\n",
        "from scipy.linalg import sqrtm\n",
        "import matplotlib.pyplot as plt"
      ],
      "metadata": {
        "id": "cnO1wfPu6RNC"
      },
      "execution_count": 3,
      "outputs": []
    },
    {
      "cell_type": "code",
      "source": [
        "class CNNBlock(nn.Module):\n",
        "    def __init__(\n",
        "        self,\n",
        "        in_channels,\n",
        "        out_channels,\n",
        "        *,\n",
        "        expected_shape,\n",
        "        act=nn.GELU,\n",
        "        kernel_size=7,\n",
        "    ):\n",
        "        super().__init__()\n",
        "\n",
        "        self.net = nn.Sequential(\n",
        "            nn.Conv2d(in_channels, out_channels, kernel_size, padding=kernel_size // 2),\n",
        "            nn.LayerNorm(expected_shape),\n",
        "            act()\n",
        "        )\n",
        "\n",
        "    def forward(self, x):\n",
        "        return self.net(x)\n",
        "\n",
        "# We then create the full CNN model, which is a stack of these blocks\n",
        "# according to the `n_hidden` tuple, which specifies the number of\n",
        "# channels at each hidden layer.\n",
        "class CNN(nn.Module):\n",
        "    def __init__(\n",
        "        self,\n",
        "        in_channels,\n",
        "        expected_shape=(28, 28),\n",
        "        n_hidden=(64, 128, 64),\n",
        "        kernel_size=7,\n",
        "        last_kernel_size=3,\n",
        "        time_embeddings=16,\n",
        "        act=nn.GELU,\n",
        "    ) -> None:\n",
        "        super().__init__()\n",
        "        last = in_channels\n",
        "\n",
        "        self.blocks = nn.ModuleList()\n",
        "        for hidden in n_hidden:\n",
        "            self.blocks.append(\n",
        "                CNNBlock(\n",
        "                    last,\n",
        "                    hidden,\n",
        "                    expected_shape=expected_shape,\n",
        "                    kernel_size=kernel_size,\n",
        "                    act=act,\n",
        "                )\n",
        "            )\n",
        "            last = hidden\n",
        "\n",
        "        # The final layer, we use a regular Conv2d to get the\n",
        "        # correct scale and shape (and avoid applying the activation)\n",
        "        self.blocks.append(\n",
        "            nn.Conv2d(\n",
        "                last,\n",
        "                in_channels,\n",
        "                last_kernel_size,\n",
        "                padding=last_kernel_size // 2,\n",
        "            )\n",
        "        )\n",
        "\n",
        "        ## This part is literally just to put the single scalar \"t\" into the CNN\n",
        "        ## in a nice, high-dimensional way:\n",
        "        self.time_embed = nn.Sequential(\n",
        "            nn.Linear(time_embeddings * 2, 128), act(),\n",
        "            nn.Linear(128, 128), act(),\n",
        "            nn.Linear(128, 128), act(),\n",
        "            nn.Linear(128, n_hidden[0]),\n",
        "        )\n",
        "        frequencies = torch.tensor(\n",
        "            [0] + [2 * np.pi * 1.5**i for i in range(time_embeddings - 1)]\n",
        "        )\n",
        "        self.register_buffer(\"frequencies\", frequencies)\n",
        "\n",
        "    def time_encoding(self, t: torch.Tensor) -> torch.Tensor:\n",
        "        phases = torch.concat(\n",
        "            (\n",
        "                torch.sin(t[:, None] * self.frequencies[None, :]),\n",
        "                torch.cos(t[:, None] * self.frequencies[None, :]) - 1,\n",
        "            ),\n",
        "            dim=1,\n",
        "        )\n",
        "\n",
        "        return self.time_embed(phases)[:, :, None, None]\n",
        "\n",
        "    def forward(self, x: torch.Tensor, t: torch.Tensor) -> torch.Tensor:\n",
        "        # Shapes of input:\n",
        "        #    x: (batch, chan, height, width)\n",
        "        #    t: (batch,)\n",
        "\n",
        "        embed = self.blocks[0](x)\n",
        "        # ^ (batch, n_hidden[0], height, width)\n",
        "\n",
        "        # Add information about time along the diffusion process\n",
        "        #  (Providing this information by superimposing in latent space)\n",
        "        embed += self.time_encoding(t)\n",
        "        #         ^ (batch, n_hidden[0], 1, 1) - thus, broadcasting\n",
        "        #           to the entire spatial domain\n",
        "\n",
        "        for block in self.blocks[1:]:\n",
        "            embed = block(embed)\n",
        "\n",
        "        return embed"
      ],
      "metadata": {
        "id": "VXgHR69i6Vap"
      },
      "execution_count": 4,
      "outputs": []
    },
    {
      "cell_type": "markdown",
      "source": [
        "Next, we define the actual diffusion model, which specifies the trainingschedule, takes an arbitrary model for estimating the diffusion process (such as the CNN above),and computes the corresponding loss (as well as generating samples)."
      ],
      "metadata": {
        "id": "DZIaqem76jik"
      }
    },
    {
      "cell_type": "code",
      "source": [
        "class DDPM(nn.Module):\n",
        "    def __init__(\n",
        "        self,\n",
        "        gt,\n",
        "        betas: Tuple[float, float],\n",
        "        n_T: int,\n",
        "        criterion: nn.Module = nn.MSELoss(),\n",
        "    ) -> None:\n",
        "        super().__init__()\n",
        "\n",
        "        self.gt = gt\n",
        "\n",
        "        noise_schedule = ddpm_schedules(betas[0], betas[1], n_T)\n",
        "\n",
        "        # `register_buffer` will track these tensors for device placement, but\n",
        "        # not store them as model parameters. This is useful for constants.\n",
        "        self.register_buffer(\"beta_t\", noise_schedule[\"beta_t\"])\n",
        "        self.beta_t  # Exists! Set by register_buffer\n",
        "        self.register_buffer(\"alpha_t\", noise_schedule[\"alpha_t\"])\n",
        "        self.alpha_t\n",
        "\n",
        "        self.n_T = n_T\n",
        "        self.criterion = criterion\n",
        "\n",
        "    def forward(self, x: torch.Tensor) -> torch.Tensor:\n",
        "        \"\"\"Algorithm 18.1 in Prince\"\"\"\n",
        "\n",
        "        t = torch.randint(1, self.n_T, (x.shape[0],), device=x.device)\n",
        "        eps = torch.randn_like(x)  # eps ~ N(0, 1)\n",
        "        alpha_t = self.alpha_t[t, None, None, None]  # Get right shape for broadcasting\n",
        "\n",
        "        z_t = torch.sqrt(alpha_t) * x + torch.sqrt(1 - alpha_t) * eps\n",
        "        # This is the z_t, which is sqrt(alphabar) x_0 + sqrt(1-alphabar) * eps\n",
        "        # We should predict the \"error term\" from this z_t. Loss is what we return.\n",
        "\n",
        "        return self.criterion(eps, self.gt(z_t, t / self.n_T))\n",
        "\n",
        "    def sample(self, n_sample: int, size, device) -> torch.Tensor:\n",
        "        \"\"\"Algorithm 18.2 in Prince\"\"\"\n",
        "\n",
        "        _one = torch.ones(n_sample, device=device)\n",
        "        z_t = torch.randn(n_sample, *size, device=device)\n",
        "        for i in range(self.n_T, 0, -1):\n",
        "            alpha_t = self.alpha_t[i]\n",
        "            beta_t = self.beta_t[i]\n",
        "\n",
        "            # First line of loop:\n",
        "            z_t -= (beta_t / torch.sqrt(1 - alpha_t)) * self.gt(z_t, (i/self.n_T) * _one)\n",
        "            z_t /= torch.sqrt(1 - beta_t)\n",
        "\n",
        "            if i > 1:\n",
        "                # Last line of loop:\n",
        "                z_t += torch.sqrt(beta_t) * torch.randn_like(z_t)\n",
        "            # (We don't add noise at the final step - i.e., the last line of the algorithm)\n",
        "\n",
        "        return z_t"
      ],
      "metadata": {
        "id": "kkTAgc4U6gQb"
      },
      "execution_count": 5,
      "outputs": []
    },
    {
      "cell_type": "markdown",
      "source": [
        "define DDGM class for diffusion model using gamma distribution"
      ],
      "metadata": {
        "id": "PzGjGCMI7F50"
      }
    },
    {
      "cell_type": "code",
      "source": [
        "class DDGM(nn.Module):\n",
        "    def __init__(\n",
        "        self,\n",
        "        gt,\n",
        "        betas: Tuple[float, float],\n",
        "        theta_0:float,\n",
        "        n_T: int,\n",
        "        criterion: nn.Module = nn.MSELoss(),\n",
        "    ) -> None:\n",
        "        super().__init__()\n",
        "\n",
        "        self.gt = gt\n",
        "\n",
        "        noise_schedule = ddgm_schedules(betas[0], betas[1], theta_0, n_T)\n",
        "\n",
        "        # `register_buffer` will track these tensors for device placement, but\n",
        "        # not store them as model parameters. This is useful for constants.\n",
        "        self.register_buffer(\"beta_t\", noise_schedule[\"beta_t\"])\n",
        "        self.beta_t  # Exists! Set by register_buffer\n",
        "        self.register_buffer(\"alpha_t\", noise_schedule[\"alpha_t\"])\n",
        "        self.alpha_t\n",
        "        self.register_buffer(\"k_t\", noise_schedule[\"k_t\"])\n",
        "        self.k_t\n",
        "        self.register_buffer(\"theta_t\", noise_schedule[\"theta_t\"])\n",
        "        self.theta_t\n",
        "        self.register_buffer(\"k_t_bar\", noise_schedule[\"k_t_bar\"])\n",
        "        self.k_t_bar\n",
        "\n",
        "        self.n_T = n_T\n",
        "        self.criterion = criterion\n",
        "\n",
        "    def forward(self, x: torch.Tensor) -> torch.Tensor:\n",
        "\n",
        "        t = torch.randint(1, self.n_T, (x.shape[0],), device=x.device)\n",
        "\n",
        "        alpha_t = self.alpha_t[t].reshape(x.shape[0], *([1] * len(x.shape[1:])))\n",
        "        k_t_bar = self.k_t_bar[t].reshape(x.shape[0], *([1] * len(x.shape[1:]))).repeat(1, *x.shape[1:])\n",
        "        theta_t = self.theta_t[t].reshape(x.shape[0], *([1] * len(x.shape[1:]))).repeat(1, *x.shape[1:])\n",
        "\n",
        "        g_t_bar = torch.distributions.Gamma(k_t_bar, 1/theta_t).sample()\n",
        "\n",
        "        z_t = torch.sqrt(alpha_t) * x + g_t_bar-k_t_bar*theta_t\n",
        "\n",
        "        return self.criterion((g_t_bar-k_t_bar*theta_t)/torch.sqrt(1-alpha_t), self.gt(z_t, t / self.n_T))\n",
        "\n",
        "    def sample(self, n_sample: int, size, device) -> torch.Tensor:\n",
        "\n",
        "        _one = torch.ones(n_sample, device=device)\n",
        "        theta_T = self.theta_t[self.n_T]\n",
        "        k_T_bar = self.k_t_bar[self.n_T]\n",
        "        init_samples_shape= (n_sample, *size)\n",
        "        z = torch.distributions.Gamma(torch.full(init_samples_shape, k_T_bar), torch.full(init_samples_shape, 1 / theta_T)).sample().to(device=device)\n",
        "        z_t = z-theta_T*k_T_bar\n",
        "        for i in range(self.n_T, 0, -1):\n",
        "            alpha_t = self.alpha_t[i]\n",
        "            alpha_t_minus_1 = self.alpha_t[i-1]\n",
        "            beta_t = self.beta_t[i]\n",
        "            k_t_bar = self.k_t_bar[i]\n",
        "            theta_t = self.theta_t[i]\n",
        "\n",
        "            grad = self.gt(z_t, (i/self.n_T) * _one)\n",
        "            x0 = (1 / alpha_t.sqrt()) * (z_t - (1 - alpha_t).sqrt() * grad)\n",
        "            z_t = (alpha_t_minus_1.sqrt() * beta_t / (1 - alpha_t)) * x0 + ((1 - beta_t).sqrt() * (1 - alpha_t_minus_1) / (1 - alpha_t)) * z_t\n",
        "\n",
        "            if i > 1:\n",
        "\n",
        "                z = torch.distributions.Gamma(torch.full(init_samples_shape, k_t_bar), torch.full(init_samples_shape, 1/theta_t)).sample().to(device=device)\n",
        "                z = (z-theta_t*k_t_bar)/torch.sqrt(1-alpha_t)\n",
        "                z_t += torch.sqrt(beta_t) * z\n",
        "\n",
        "        return z_t"
      ],
      "metadata": {
        "id": "1p-2PZGE6tqH"
      },
      "execution_count": 6,
      "outputs": []
    },
    {
      "cell_type": "code",
      "source": [
        "# The following function creates a DDPM training schedule for use when evaluating\n",
        "# and training the diffusion model:\n",
        "def ddpm_schedules(beta1: float, beta2: float, T: int) -> Dict[str, torch.Tensor]:\n",
        "    \"\"\"Returns pre-computed schedules for DDPM sampling with a linear noise schedule.\"\"\"\n",
        "    assert beta1 < beta2 < 1.0, \"beta1 and beta2 must be in (0, 1)\"\n",
        "\n",
        "    beta_t = (beta2 - beta1) * torch.arange(0, T + 1, dtype=torch.float32) / T + beta1\n",
        "    alpha_t = torch.exp(torch.cumsum(torch.log(1 - beta_t), dim=0))  # Cumprod in log-space (better precision)\n",
        "\n",
        "    return {\"beta_t\": beta_t, \"alpha_t\": alpha_t}\n",
        "\n",
        "\n",
        "# The following function creates a DDGM training schedule for use when evaluating\n",
        "# and training the designed diffusion model:\n",
        "def ddgm_schedules(beta1: float, beta2: float, theta_0:float, T: int) -> Dict[str, torch.Tensor]:\n",
        "    \"\"\"Returns pre-computed schedules for DDGM sampling with a linear noise schedule.\"\"\"\n",
        "    assert beta1 < beta2 < 1.0, \"beta1 and beta2 must be in (0, 1)\"\n",
        "\n",
        "    beta_t = (beta2 - beta1) * torch.arange(0, T + 1, dtype=torch.float32) / T + beta1\n",
        "    alpha_t = torch.exp(torch.cumsum(torch.log(1 - beta_t), dim=0))  # Cumprod in log-space (better precision)\n",
        "\n",
        "    k_t = beta_t/(alpha_t*theta_0*theta_0)\n",
        "    theta_t = torch.sqrt(alpha_t)*theta_0\n",
        "    k_t_bar = torch.cumsum(k_t, dim=0)\n",
        "    return {\"beta_t\": beta_t, \"alpha_t\":alpha_t, \"k_t\":k_t, \"theta_t\":theta_t,\"k_t_bar\":k_t_bar}"
      ],
      "metadata": {
        "id": "v7IrhXI47Ond"
      },
      "execution_count": 7,
      "outputs": []
    },
    {
      "cell_type": "code",
      "source": [
        "# Define a function to compute the activations\n",
        "def compute_activations(images, model):\n",
        "    activations = []\n",
        "    model.eval()\n",
        "      # Compute activations\n",
        "    batch_size = 128\n",
        "    # device = images.device\n",
        "\n",
        "    # # Check if CUDA is available\n",
        "    # if torch.cuda.is_available():\n",
        "    #     # Define the device\n",
        "    #     device = torch.device(\"cuda\")\n",
        "    # else:\n",
        "    #     device = torch.device(\"cpu\")\n",
        "    # device = torch.device(\"cpu\")  # Use CPU device\n",
        "    device = torch.device(\"cuda\")\n",
        "    with torch.no_grad():\n",
        "        for batch in DataLoader(images, batch_size=batch_size):\n",
        "            batch = batch.to(device)\n",
        "            pred = model(batch)\n",
        "            activations.append(pred)\n",
        "    activations = torch.cat(activations, dim=0)\n",
        "    return activations\n",
        "\n",
        "def calculate_fid_score(real_activations, generated_activations):\n",
        "    # Convert activations to PyTorch tensors\n",
        "    real_activations_tensor = torch.tensor(real_activations)\n",
        "    generated_activations_tensor = torch.tensor(generated_activations)\n",
        "\n",
        "    # Calculate mean and covariance matrices for real and generated activations\n",
        "    mu_real = torch.mean(real_activations_tensor, dim=0)\n",
        "    mu_generated = torch.mean(generated_activations_tensor, dim=0)\n",
        "    sigma_real = torch_cov(real_activations_tensor, rowvar=False)\n",
        "    sigma_generated = torch_cov(generated_activations_tensor, rowvar=False)\n",
        "\n",
        "    # Calculate square root of product of covariance matrices\n",
        "    sqrt_sigma_real_sigma_generated = sqrtm(sigma_real @ sigma_generated)\n",
        "\n",
        "    # Ensure real-valued result if square root is complex\n",
        "    if np.iscomplexobj(sqrt_sigma_real_sigma_generated):\n",
        "        sqrt_sigma_real_sigma_generated = sqrt_sigma_real_sigma_generated.real\n",
        "\n",
        "    # Calculate FID score\n",
        "    fid_score = torch.norm(mu_real - mu_generated)**2 + torch.trace(sigma_real + sigma_generated - 2 * sqrt_sigma_real_sigma_generated)\n",
        "    return fid_score\n",
        "\n",
        "# Function to calculate covariance matrix\n",
        "def torch_cov(m, rowvar=False):\n",
        "    if m.dim() <= 1:\n",
        "        m = m.view(1, -1)\n",
        "    if not rowvar and m.size(0) != 1:\n",
        "        m = m.t()\n",
        "    fact = 1.0 / (m.size(1) - 1)\n",
        "    m -= torch.mean(m, dim=1, keepdim=True)\n",
        "    mt = m.t()  # if complex: mt = m.t().conj()\n",
        "    return fact * m.matmul(mt).squeeze()\n",
        "\n",
        "def  Calculate_FID_score(real_images, generated_images):\n",
        "    # Load Inception-v3 model pretrained on ImageNet\n",
        "    inception_model = inception_v3(pretrained=True, transform_input=False).to(device=x.device)\n",
        "    inception_model.eval()\n",
        "  # Preprocess images\n",
        "    preprocess = transforms.Compose([\n",
        "      transforms.ToPILImage(),  # Convert tensor to PIL Image\n",
        "      transforms.Grayscale(num_output_channels=3),  # Convert single channel to three channels\n",
        "      transforms.Resize(299),\n",
        "      transforms.CenterCrop(299),\n",
        "      transforms.ToTensor(),  # Convert image to tensor\n",
        "      transforms.Normalize(mean=[0.5, 0.5, 0.5], std=[0.5, 0.5, 0.5])  # Normalize pixel values\n",
        "  ])\n",
        "\n",
        "\n",
        "    real_images_preprocessed = torch.stack([preprocess(image) for image in real_images])\n",
        "    generated_images_preprocessed = torch.stack([preprocess(image) for image in generated_images])\n",
        "\n",
        "  # Compute activations\n",
        "    batch_size = 128\n",
        "    device = real_images.device\n",
        "\n",
        "    real_images_preprocessed = torch.stack([preprocess(image.cpu()) for image in real_images])\n",
        "    generated_images_preprocessed = torch.stack([preprocess(image.cpu()) for image in generated_images])\n",
        "\n",
        "  # Compute activations\n",
        "    real_activations = compute_activations(real_images_preprocessed, inception_model)\n",
        "    generated_activations = compute_activations(generated_images_preprocessed, inception_model)\n",
        "\n",
        "  # Move tensors to CPU and detach from computational graph\n",
        "    real_activations_cpu = real_activations.cpu().detach().numpy()\n",
        "    generated_activations_cpu = generated_activations.cpu().detach().numpy()\n",
        "\n",
        "  # Calculate FID score\n",
        "    fid_score = calculate_fid_score(real_activations_cpu, generated_activations_cpu)\n",
        "  # print(\"FID Score:\", fid_score.item())\n",
        "    return fid_score.item()"
      ],
      "metadata": {
        "id": "fZn-1NWw7W5E"
      },
      "execution_count": 8,
      "outputs": []
    },
    {
      "cell_type": "code",
      "source": [
        "# Load dataset\n",
        "tf = transforms.Compose([transforms.ToTensor(), transforms.Normalize((0.5,), (1.0))])\n",
        "dataset = MNIST(\"./data\", train=True, download=True, transform=tf)\n",
        "dataloader = DataLoader(dataset, batch_size=128, shuffle=True, num_workers=4, drop_last=True)"
      ],
      "metadata": {
        "id": "M9TQrlE-7eGt"
      },
      "execution_count": null,
      "outputs": []
    },
    {
      "cell_type": "code",
      "source": [
        "# Define the model for estimator\n",
        "gt = CNN(in_channels=1, expected_shape=(28, 28), n_hidden=(16, 32, 32, 16), act=nn.GELU)\n",
        "\n",
        "param = \"DDGM\"\n",
        "# Choose model either to use Gaussian noise (DDPM) for diffusion or gamma noise (DDGM)\n",
        "if param == \"DDGM\":\n",
        "    model = DDGM(gt=gt, betas=(1e-4, 0.02), theta_0=0.001, n_T=1000)\n",
        "elif param == \"DDPM\":\n",
        "    model = DDPM(gt=gt, betas=(1e-4, 0.02), n_T=1000)\n",
        "\n",
        "# Define optimizer\n",
        "optim = torch.optim.Adam(model.parameters(), lr=2e-4)\n",
        "\n",
        "# Initialize Accelerator\n",
        "accelerator = Accelerator()\n",
        "\n",
        "# Wrap model, optimizer, and dataloader with Accelerate to handle device placement and gradient accumulation\n",
        "model, optim, dataloader = accelerator.prepare(model, optim, dataloader)"
      ],
      "metadata": {
        "colab": {
          "base_uri": "https://localhost:8080/"
        },
        "id": "EmRMl9Bz7l8l",
        "outputId": "bd35afa5-488a-4415-bcd2-da894a59db28"
      },
      "execution_count": 11,
      "outputs": [
        {
          "output_type": "stream",
          "name": "stderr",
          "text": [
            "/usr/local/lib/python3.10/dist-packages/torch/utils/data/dataloader.py:558: UserWarning: This DataLoader will create 4 worker processes in total. Our suggested max number of worker in current system is 2, which is smaller than what this DataLoader is going to create. Please be aware that excessive worker creation might get DataLoader running slow or even freeze, lower the worker number to avoid potential slowness/freeze if necessary.\n",
            "  warnings.warn(_create_warning_msg(\n"
          ]
        }
      ]
    },
    {
      "cell_type": "code",
      "source": [
        "n_epoch = 25\n",
        "losses = []\n",
        "avg_losses=[]\n",
        "fid_scores = []\n",
        "\n",
        "for i in range(n_epoch):\n",
        "    model.train()\n",
        "\n",
        "    pbar = tqdm(dataloader)  # Wrap our loop with a visual progress bar\n",
        "    for x, _ in pbar:\n",
        "        optim.zero_grad()\n",
        "\n",
        "        loss =model(x)\n",
        "\n",
        "        loss.backward()\n",
        "        # ^Technically should be `accelerator.backward(loss)` but not necessary for local training\n",
        "\n",
        "        losses.append(loss.item())\n",
        "        avg_loss = np.average(losses[min(len(losses)-100, 0):])\n",
        "        pbar.set_description(f\"loss: {avg_loss:.3g}\")  # Show running average of loss in progress bar\n",
        "\n",
        "        optim.step()\n",
        "    avg_losses.append(avg_loss)\n",
        "\n",
        "    model.eval()\n",
        "    with torch.no_grad():\n",
        "        xh =model.sample(128, (1, 28, 28), accelerator.device)  # Can get device explicitly with `accelerator.device`\n",
        "        grid = make_grid(xh, nrow=4)\n",
        "\n",
        "        # Save samples to `./contents` directory\n",
        "        save_image(grid, f\"./contents/sample_{i:04d}.png\")\n",
        "\n",
        "        # save model\n",
        "        torch.save(model.state_dict(), f\"./mnist.pth\")\n",
        "    fid_score = Calculate_FID_score(real_images=x, generated_images=xh)\n",
        "    fid_scores.append(fid_score)\n",
        "    # print(fid_scores)\n",
        "    # print(avg_losses)\n",
        "\n"
      ],
      "metadata": {
        "colab": {
          "base_uri": "https://localhost:8080/"
        },
        "id": "x07nMxo379Y8",
        "outputId": "07d412ba-23a2-442c-95ec-a47dace29f08"
      },
      "execution_count": 15,
      "outputs": [
        {
          "output_type": "stream",
          "name": "stderr",
          "text": [
            "\r  0%|          | 0/468 [00:00<?, ?it/s]/usr/local/lib/python3.10/dist-packages/torch/utils/data/dataloader.py:558: UserWarning: This DataLoader will create 4 worker processes in total. Our suggested max number of worker in current system is 2, which is smaller than what this DataLoader is going to create. Please be aware that excessive worker creation might get DataLoader running slow or even freeze, lower the worker number to avoid potential slowness/freeze if necessary.\n",
            "  warnings.warn(_create_warning_msg(\n",
            "loss: 0.112: 100%|██████████| 468/468 [00:20<00:00, 23.03it/s]\n",
            "/usr/local/lib/python3.10/dist-packages/torchvision/models/_utils.py:208: UserWarning: The parameter 'pretrained' is deprecated since 0.13 and may be removed in the future, please use 'weights' instead.\n",
            "  warnings.warn(\n",
            "/usr/local/lib/python3.10/dist-packages/torchvision/models/_utils.py:223: UserWarning: Arguments other than a weight enum or `None` for 'weights' are deprecated since 0.13 and may be removed in the future. The current behavior is equivalent to passing `weights=Inception_V3_Weights.IMAGENET1K_V1`. You can also use `weights=Inception_V3_Weights.DEFAULT` to get the most up-to-date weights.\n",
            "  warnings.warn(msg)\n",
            "Downloading: \"https://download.pytorch.org/models/inception_v3_google-0cc3c7bd.pth\" to /root/.cache/torch/hub/checkpoints/inception_v3_google-0cc3c7bd.pth\n",
            "100%|██████████| 104M/104M [00:01<00:00, 88.5MB/s] \n"
          ]
        },
        {
          "output_type": "stream",
          "name": "stdout",
          "text": [
            "[1590.251708984375]\n",
            "[0.11240438592389353]\n"
          ]
        },
        {
          "output_type": "stream",
          "name": "stderr",
          "text": [
            "loss: 0.079: 100%|██████████| 468/468 [00:23<00:00, 20.32it/s]\n"
          ]
        },
        {
          "output_type": "stream",
          "name": "stdout",
          "text": [
            "[1590.251708984375, 1481.772705078125]\n",
            "[0.11240438592389353, 0.07902193163983269]\n"
          ]
        },
        {
          "output_type": "stream",
          "name": "stderr",
          "text": [
            "loss: 0.065: 100%|██████████| 468/468 [00:18<00:00, 24.70it/s]\n"
          ]
        },
        {
          "output_type": "stream",
          "name": "stdout",
          "text": [
            "[1590.251708984375, 1481.772705078125, 1483.9088134765625]\n",
            "[0.11240438592389353, 0.07902193163983269, 0.06497075176397153]\n"
          ]
        },
        {
          "output_type": "stream",
          "name": "stderr",
          "text": [
            "loss: 0.0567: 100%|██████████| 468/468 [00:18<00:00, 24.70it/s]\n"
          ]
        },
        {
          "output_type": "stream",
          "name": "stdout",
          "text": [
            "[1590.251708984375, 1481.772705078125, 1483.9088134765625, 1392.7384033203125]\n",
            "[0.11240438592389353, 0.07902193163983269, 0.06497075176397153, 0.05668383466008191]\n"
          ]
        },
        {
          "output_type": "stream",
          "name": "stderr",
          "text": [
            "loss: 0.0511: 100%|██████████| 468/468 [00:19<00:00, 23.61it/s]\n"
          ]
        },
        {
          "output_type": "stream",
          "name": "stdout",
          "text": [
            "[1590.251708984375, 1481.772705078125, 1483.9088134765625, 1392.7384033203125, 1368.3525390625]\n",
            "[0.11240438592389353, 0.07902193163983269, 0.06497075176397153, 0.05668383466008191, 0.051088863043671745]\n"
          ]
        },
        {
          "output_type": "stream",
          "name": "stderr",
          "text": [
            "loss: 0.047: 100%|██████████| 468/468 [00:20<00:00, 22.65it/s]\n"
          ]
        },
        {
          "output_type": "stream",
          "name": "stdout",
          "text": [
            "[1590.251708984375, 1481.772705078125, 1483.9088134765625, 1392.7384033203125, 1368.3525390625, 1359.810546875]\n",
            "[0.11240438592389353, 0.07902193163983269, 0.06497075176397153, 0.05668383466008191, 0.051088863043671745, 0.04704243870865968]\n"
          ]
        },
        {
          "output_type": "stream",
          "name": "stderr",
          "text": [
            "loss: 0.044: 100%|██████████| 468/468 [00:19<00:00, 23.77it/s]\n"
          ]
        },
        {
          "output_type": "stream",
          "name": "stdout",
          "text": [
            "[1590.251708984375, 1481.772705078125, 1483.9088134765625, 1392.7384033203125, 1368.3525390625, 1359.810546875, 1326.0250244140625]\n",
            "[0.11240438592389353, 0.07902193163983269, 0.06497075176397153, 0.05668383466008191, 0.051088863043671745, 0.04704243870865968, 0.044005598504464706]\n"
          ]
        },
        {
          "output_type": "stream",
          "name": "stderr",
          "text": [
            "loss: 0.0416: 100%|██████████| 468/468 [00:19<00:00, 24.05it/s]\n"
          ]
        },
        {
          "output_type": "stream",
          "name": "stdout",
          "text": [
            "[1590.251708984375, 1481.772705078125, 1483.9088134765625, 1392.7384033203125, 1368.3525390625, 1359.810546875, 1326.0250244140625, 1376.8447265625]\n",
            "[0.11240438592389353, 0.07902193163983269, 0.06497075176397153, 0.05668383466008191, 0.051088863043671745, 0.04704243870865968, 0.044005598504464706, 0.0416187072181716]\n"
          ]
        },
        {
          "output_type": "stream",
          "name": "stderr",
          "text": [
            "loss: 0.0397: 100%|██████████| 468/468 [00:18<00:00, 25.03it/s]\n"
          ]
        },
        {
          "output_type": "stream",
          "name": "stdout",
          "text": [
            "[1590.251708984375, 1481.772705078125, 1483.9088134765625, 1392.7384033203125, 1368.3525390625, 1359.810546875, 1326.0250244140625, 1376.8447265625, 1338.1226806640625]\n",
            "[0.11240438592389353, 0.07902193163983269, 0.06497075176397153, 0.05668383466008191, 0.051088863043671745, 0.04704243870865968, 0.044005598504464706, 0.0416187072181716, 0.039663346336600847]\n"
          ]
        },
        {
          "output_type": "stream",
          "name": "stderr",
          "text": [
            "loss: 0.0381: 100%|██████████| 468/468 [00:19<00:00, 24.60it/s]\n"
          ]
        },
        {
          "output_type": "stream",
          "name": "stdout",
          "text": [
            "[1590.251708984375, 1481.772705078125, 1483.9088134765625, 1392.7384033203125, 1368.3525390625, 1359.810546875, 1326.0250244140625, 1376.8447265625, 1338.1226806640625, 1296.330078125]\n",
            "[0.11240438592389353, 0.07902193163983269, 0.06497075176397153, 0.05668383466008191, 0.051088863043671745, 0.04704243870865968, 0.044005598504464706, 0.0416187072181716, 0.039663346336600847, 0.03807684401364631]\n"
          ]
        },
        {
          "output_type": "stream",
          "name": "stderr",
          "text": [
            "loss: 0.0367: 100%|██████████| 468/468 [00:19<00:00, 23.70it/s]\n"
          ]
        },
        {
          "output_type": "stream",
          "name": "stdout",
          "text": [
            "[1590.251708984375, 1481.772705078125, 1483.9088134765625, 1392.7384033203125, 1368.3525390625, 1359.810546875, 1326.0250244140625, 1376.8447265625, 1338.1226806640625, 1296.330078125, 1235.8568115234375]\n",
            "[0.11240438592389353, 0.07902193163983269, 0.06497075176397153, 0.05668383466008191, 0.051088863043671745, 0.04704243870865968, 0.044005598504464706, 0.0416187072181716, 0.039663346336600847, 0.03807684401364631, 0.03671110450111405]\n"
          ]
        },
        {
          "output_type": "stream",
          "name": "stderr",
          "text": [
            "loss: 0.0355: 100%|██████████| 468/468 [00:19<00:00, 23.54it/s]\n"
          ]
        },
        {
          "output_type": "stream",
          "name": "stdout",
          "text": [
            "[1590.251708984375, 1481.772705078125, 1483.9088134765625, 1392.7384033203125, 1368.3525390625, 1359.810546875, 1326.0250244140625, 1376.8447265625, 1338.1226806640625, 1296.330078125, 1235.8568115234375, 1247.727294921875]\n",
            "[0.11240438592389353, 0.07902193163983269, 0.06497075176397153, 0.05668383466008191, 0.051088863043671745, 0.04704243870865968, 0.044005598504464706, 0.0416187072181716, 0.039663346336600847, 0.03807684401364631, 0.03671110450111405, 0.035542675770588346]\n"
          ]
        },
        {
          "output_type": "stream",
          "name": "stderr",
          "text": [
            "loss: 0.0346: 100%|██████████| 468/468 [00:21<00:00, 22.21it/s]\n"
          ]
        },
        {
          "output_type": "stream",
          "name": "stdout",
          "text": [
            "[1590.251708984375, 1481.772705078125, 1483.9088134765625, 1392.7384033203125, 1368.3525390625, 1359.810546875, 1326.0250244140625, 1376.8447265625, 1338.1226806640625, 1296.330078125, 1235.8568115234375, 1247.727294921875, 1093.5345458984375]\n",
            "[0.11240438592389353, 0.07902193163983269, 0.06497075176397153, 0.05668383466008191, 0.051088863043671745, 0.04704243870865968, 0.044005598504464706, 0.0416187072181716, 0.039663346336600847, 0.03807684401364631, 0.03671110450111405, 0.035542675770588346, 0.03455023606718664]\n"
          ]
        },
        {
          "output_type": "stream",
          "name": "stderr",
          "text": [
            "loss: 0.0337: 100%|██████████| 468/468 [00:19<00:00, 23.90it/s]\n"
          ]
        },
        {
          "output_type": "stream",
          "name": "stdout",
          "text": [
            "[1590.251708984375, 1481.772705078125, 1483.9088134765625, 1392.7384033203125, 1368.3525390625, 1359.810546875, 1326.0250244140625, 1376.8447265625, 1338.1226806640625, 1296.330078125, 1235.8568115234375, 1247.727294921875, 1093.5345458984375, 1031.1490478515625]\n",
            "[0.11240438592389353, 0.07902193163983269, 0.06497075176397153, 0.05668383466008191, 0.051088863043671745, 0.04704243870865968, 0.044005598504464706, 0.0416187072181716, 0.039663346336600847, 0.03807684401364631, 0.03671110450111405, 0.035542675770588346, 0.03455023606718664, 0.03366924472160578]\n"
          ]
        },
        {
          "output_type": "stream",
          "name": "stderr",
          "text": [
            "loss: 0.0329: 100%|██████████| 468/468 [00:19<00:00, 24.57it/s]\n"
          ]
        },
        {
          "output_type": "stream",
          "name": "stdout",
          "text": [
            "[1590.251708984375, 1481.772705078125, 1483.9088134765625, 1392.7384033203125, 1368.3525390625, 1359.810546875, 1326.0250244140625, 1376.8447265625, 1338.1226806640625, 1296.330078125, 1235.8568115234375, 1247.727294921875, 1093.5345458984375, 1031.1490478515625, 802.3070068359375]\n",
            "[0.11240438592389353, 0.07902193163983269, 0.06497075176397153, 0.05668383466008191, 0.051088863043671745, 0.04704243870865968, 0.044005598504464706, 0.0416187072181716, 0.039663346336600847, 0.03807684401364631, 0.03671110450111405, 0.035542675770588346, 0.03455023606718664, 0.03366924472160578, 0.0328890813547757]\n"
          ]
        },
        {
          "output_type": "stream",
          "name": "stderr",
          "text": [
            "loss: 0.0322: 100%|██████████| 468/468 [00:19<00:00, 24.18it/s]\n"
          ]
        },
        {
          "output_type": "stream",
          "name": "stdout",
          "text": [
            "[1590.251708984375, 1481.772705078125, 1483.9088134765625, 1392.7384033203125, 1368.3525390625, 1359.810546875, 1326.0250244140625, 1376.8447265625, 1338.1226806640625, 1296.330078125, 1235.8568115234375, 1247.727294921875, 1093.5345458984375, 1031.1490478515625, 802.3070068359375, 629.333984375]\n",
            "[0.11240438592389353, 0.07902193163983269, 0.06497075176397153, 0.05668383466008191, 0.051088863043671745, 0.04704243870865968, 0.044005598504464706, 0.0416187072181716, 0.039663346336600847, 0.03807684401364631, 0.03671110450111405, 0.035542675770588346, 0.03455023606718664, 0.03366924472160578, 0.0328890813547757, 0.03217933168020358]\n"
          ]
        },
        {
          "output_type": "stream",
          "name": "stderr",
          "text": [
            "loss: 0.0315: 100%|██████████| 468/468 [00:22<00:00, 20.82it/s]\n"
          ]
        },
        {
          "output_type": "stream",
          "name": "stdout",
          "text": [
            "[1590.251708984375, 1481.772705078125, 1483.9088134765625, 1392.7384033203125, 1368.3525390625, 1359.810546875, 1326.0250244140625, 1376.8447265625, 1338.1226806640625, 1296.330078125, 1235.8568115234375, 1247.727294921875, 1093.5345458984375, 1031.1490478515625, 802.3070068359375, 629.333984375, 520.0701293945312]\n",
            "[0.11240438592389353, 0.07902193163983269, 0.06497075176397153, 0.05668383466008191, 0.051088863043671745, 0.04704243870865968, 0.044005598504464706, 0.0416187072181716, 0.039663346336600847, 0.03807684401364631, 0.03671110450111405, 0.035542675770588346, 0.03455023606718664, 0.03366924472160578, 0.0328890813547757, 0.03217933168020358, 0.031546924521354325]\n"
          ]
        },
        {
          "output_type": "stream",
          "name": "stderr",
          "text": [
            "loss: 0.031: 100%|██████████| 468/468 [00:19<00:00, 23.49it/s]\n"
          ]
        },
        {
          "output_type": "stream",
          "name": "stdout",
          "text": [
            "[1590.251708984375, 1481.772705078125, 1483.9088134765625, 1392.7384033203125, 1368.3525390625, 1359.810546875, 1326.0250244140625, 1376.8447265625, 1338.1226806640625, 1296.330078125, 1235.8568115234375, 1247.727294921875, 1093.5345458984375, 1031.1490478515625, 802.3070068359375, 629.333984375, 520.0701293945312, 511.45684814453125]\n",
            "[0.11240438592389353, 0.07902193163983269, 0.06497075176397153, 0.05668383466008191, 0.051088863043671745, 0.04704243870865968, 0.044005598504464706, 0.0416187072181716, 0.039663346336600847, 0.03807684401364631, 0.03671110450111405, 0.035542675770588346, 0.03455023606718664, 0.03366924472160578, 0.0328890813547757, 0.03217933168020358, 0.031546924521354325, 0.030963114551458674]\n"
          ]
        },
        {
          "output_type": "stream",
          "name": "stderr",
          "text": [
            "loss: 0.0304: 100%|██████████| 468/468 [00:19<00:00, 23.59it/s]\n"
          ]
        },
        {
          "output_type": "stream",
          "name": "stdout",
          "text": [
            "[1590.251708984375, 1481.772705078125, 1483.9088134765625, 1392.7384033203125, 1368.3525390625, 1359.810546875, 1326.0250244140625, 1376.8447265625, 1338.1226806640625, 1296.330078125, 1235.8568115234375, 1247.727294921875, 1093.5345458984375, 1031.1490478515625, 802.3070068359375, 629.333984375, 520.0701293945312, 511.45684814453125, 434.476318359375]\n",
            "[0.11240438592389353, 0.07902193163983269, 0.06497075176397153, 0.05668383466008191, 0.051088863043671745, 0.04704243870865968, 0.044005598504464706, 0.0416187072181716, 0.039663346336600847, 0.03807684401364631, 0.03671110450111405, 0.035542675770588346, 0.03455023606718664, 0.03366924472160578, 0.0328890813547757, 0.03217933168020358, 0.031546924521354325, 0.030963114551458674, 0.03043724941766351]\n"
          ]
        },
        {
          "output_type": "stream",
          "name": "stderr",
          "text": [
            "loss: 0.03: 100%|██████████| 468/468 [00:19<00:00, 24.53it/s]\n"
          ]
        },
        {
          "output_type": "stream",
          "name": "stdout",
          "text": [
            "[1590.251708984375, 1481.772705078125, 1483.9088134765625, 1392.7384033203125, 1368.3525390625, 1359.810546875, 1326.0250244140625, 1376.8447265625, 1338.1226806640625, 1296.330078125, 1235.8568115234375, 1247.727294921875, 1093.5345458984375, 1031.1490478515625, 802.3070068359375, 629.333984375, 520.0701293945312, 511.45684814453125, 434.476318359375, 421.6736145019531]\n",
            "[0.11240438592389353, 0.07902193163983269, 0.06497075176397153, 0.05668383466008191, 0.051088863043671745, 0.04704243870865968, 0.044005598504464706, 0.0416187072181716, 0.039663346336600847, 0.03807684401364631, 0.03671110450111405, 0.035542675770588346, 0.03455023606718664, 0.03366924472160578, 0.0328890813547757, 0.03217933168020358, 0.031546924521354325, 0.030963114551458674, 0.03043724941766351, 0.029968102780294117]\n"
          ]
        },
        {
          "output_type": "stream",
          "name": "stderr",
          "text": [
            "loss: 0.0295: 100%|██████████| 468/468 [00:19<00:00, 24.45it/s]\n"
          ]
        },
        {
          "output_type": "stream",
          "name": "stdout",
          "text": [
            "[1590.251708984375, 1481.772705078125, 1483.9088134765625, 1392.7384033203125, 1368.3525390625, 1359.810546875, 1326.0250244140625, 1376.8447265625, 1338.1226806640625, 1296.330078125, 1235.8568115234375, 1247.727294921875, 1093.5345458984375, 1031.1490478515625, 802.3070068359375, 629.333984375, 520.0701293945312, 511.45684814453125, 434.476318359375, 421.6736145019531, 440.9547119140625]\n",
            "[0.11240438592389353, 0.07902193163983269, 0.06497075176397153, 0.05668383466008191, 0.051088863043671745, 0.04704243870865968, 0.044005598504464706, 0.0416187072181716, 0.039663346336600847, 0.03807684401364631, 0.03671110450111405, 0.035542675770588346, 0.03455023606718664, 0.03366924472160578, 0.0328890813547757, 0.03217933168020358, 0.031546924521354325, 0.030963114551458674, 0.03043724941766351, 0.029968102780294117, 0.02952599111066181]\n"
          ]
        },
        {
          "output_type": "stream",
          "name": "stderr",
          "text": [
            "loss: 0.0291: 100%|██████████| 468/468 [00:19<00:00, 24.26it/s]\n"
          ]
        },
        {
          "output_type": "stream",
          "name": "stdout",
          "text": [
            "[1590.251708984375, 1481.772705078125, 1483.9088134765625, 1392.7384033203125, 1368.3525390625, 1359.810546875, 1326.0250244140625, 1376.8447265625, 1338.1226806640625, 1296.330078125, 1235.8568115234375, 1247.727294921875, 1093.5345458984375, 1031.1490478515625, 802.3070068359375, 629.333984375, 520.0701293945312, 511.45684814453125, 434.476318359375, 421.6736145019531, 440.9547119140625, 452.7335205078125]\n",
            "[0.11240438592389353, 0.07902193163983269, 0.06497075176397153, 0.05668383466008191, 0.051088863043671745, 0.04704243870865968, 0.044005598504464706, 0.0416187072181716, 0.039663346336600847, 0.03807684401364631, 0.03671110450111405, 0.035542675770588346, 0.03455023606718664, 0.03366924472160578, 0.0328890813547757, 0.03217933168020358, 0.031546924521354325, 0.030963114551458674, 0.03043724941766351, 0.029968102780294117, 0.02952599111066181, 0.029119578218369774]\n"
          ]
        },
        {
          "output_type": "stream",
          "name": "stderr",
          "text": [
            "loss: 0.0287: 100%|██████████| 468/468 [00:19<00:00, 23.63it/s]\n"
          ]
        },
        {
          "output_type": "stream",
          "name": "stdout",
          "text": [
            "[1590.251708984375, 1481.772705078125, 1483.9088134765625, 1392.7384033203125, 1368.3525390625, 1359.810546875, 1326.0250244140625, 1376.8447265625, 1338.1226806640625, 1296.330078125, 1235.8568115234375, 1247.727294921875, 1093.5345458984375, 1031.1490478515625, 802.3070068359375, 629.333984375, 520.0701293945312, 511.45684814453125, 434.476318359375, 421.6736145019531, 440.9547119140625, 452.7335205078125, 411.57891845703125]\n",
            "[0.11240438592389353, 0.07902193163983269, 0.06497075176397153, 0.05668383466008191, 0.051088863043671745, 0.04704243870865968, 0.044005598504464706, 0.0416187072181716, 0.039663346336600847, 0.03807684401364631, 0.03671110450111405, 0.035542675770588346, 0.03455023606718664, 0.03366924472160578, 0.0328890813547757, 0.03217933168020358, 0.031546924521354325, 0.030963114551458674, 0.03043724941766351, 0.029968102780294117, 0.02952599111066181, 0.029119578218369774, 0.028735371190858696]\n"
          ]
        },
        {
          "output_type": "stream",
          "name": "stderr",
          "text": [
            "loss: 0.0284: 100%|██████████| 468/468 [00:20<00:00, 23.02it/s]\n"
          ]
        },
        {
          "output_type": "stream",
          "name": "stdout",
          "text": [
            "[1590.251708984375, 1481.772705078125, 1483.9088134765625, 1392.7384033203125, 1368.3525390625, 1359.810546875, 1326.0250244140625, 1376.8447265625, 1338.1226806640625, 1296.330078125, 1235.8568115234375, 1247.727294921875, 1093.5345458984375, 1031.1490478515625, 802.3070068359375, 629.333984375, 520.0701293945312, 511.45684814453125, 434.476318359375, 421.6736145019531, 440.9547119140625, 452.7335205078125, 411.57891845703125, 468.42523193359375]\n",
            "[0.11240438592389353, 0.07902193163983269, 0.06497075176397153, 0.05668383466008191, 0.051088863043671745, 0.04704243870865968, 0.044005598504464706, 0.0416187072181716, 0.039663346336600847, 0.03807684401364631, 0.03671110450111405, 0.035542675770588346, 0.03455023606718664, 0.03366924472160578, 0.0328890813547757, 0.03217933168020358, 0.031546924521354325, 0.030963114551458674, 0.03043724941766351, 0.029968102780294117, 0.02952599111066181, 0.029119578218369774, 0.028735371190858696, 0.028387127611640195]\n"
          ]
        },
        {
          "output_type": "stream",
          "name": "stderr",
          "text": [
            "loss: 0.0281: 100%|██████████| 468/468 [00:20<00:00, 23.28it/s]\n"
          ]
        },
        {
          "output_type": "stream",
          "name": "stdout",
          "text": [
            "[1590.251708984375, 1481.772705078125, 1483.9088134765625, 1392.7384033203125, 1368.3525390625, 1359.810546875, 1326.0250244140625, 1376.8447265625, 1338.1226806640625, 1296.330078125, 1235.8568115234375, 1247.727294921875, 1093.5345458984375, 1031.1490478515625, 802.3070068359375, 629.333984375, 520.0701293945312, 511.45684814453125, 434.476318359375, 421.6736145019531, 440.9547119140625, 452.7335205078125, 411.57891845703125, 468.42523193359375, 428.85009765625]\n",
            "[0.11240438592389353, 0.07902193163983269, 0.06497075176397153, 0.05668383466008191, 0.051088863043671745, 0.04704243870865968, 0.044005598504464706, 0.0416187072181716, 0.039663346336600847, 0.03807684401364631, 0.03671110450111405, 0.035542675770588346, 0.03455023606718664, 0.03366924472160578, 0.0328890813547757, 0.03217933168020358, 0.031546924521354325, 0.030963114551458674, 0.03043724941766351, 0.029968102780294117, 0.02952599111066181, 0.029119578218369774, 0.028735371190858696, 0.028387127611640195, 0.028068407444347045]\n"
          ]
        }
      ]
    },
    {
      "cell_type": "code",
      "source": [
        "    # Plot the loss curve\n",
        "    plt.plot(range(1, n_epoch + 1), avg_losses, marker='o', linestyle='-', markersize=2)\n",
        "    plt.xlabel('Epoch')\n",
        "    plt.ylabel('Loss')\n",
        "    plt.title('Training Loss Curve')\n",
        "    plt.grid(True)\n",
        "    plt.show()\n"
      ],
      "metadata": {
        "colab": {
          "base_uri": "https://localhost:8080/",
          "height": 472
        },
        "id": "IwrrUhQW88bz",
        "outputId": "7840f655-ce95-4c60-9afe-df009200b2e4"
      },
      "execution_count": 16,
      "outputs": [
        {
          "output_type": "display_data",
          "data": {
            "text/plain": [
              "<Figure size 640x480 with 1 Axes>"
            ],
            "image/png": "[encoded data removed]"
          },
          "metadata": {}
        }
      ]
    },
    {
      "cell_type": "code",
      "source": [
        "    # Plot the fid curve\n",
        "    plt.plot(range(1, n_epoch + 1), fid_scores, marker='o', linestyle='-', markersize=3)\n",
        "    plt.xlabel('Epoch')\n",
        "    plt.ylabel('FID score')\n",
        "    plt.title('Fid Score Curve')\n",
        "    plt.grid(True)\n",
        "    plt.show()"
      ],
      "metadata": {
        "colab": {
          "base_uri": "https://localhost:8080/",
          "height": 472
        },
        "id": "80FGR7zK9A8A",
        "outputId": "d3840e13-70ef-4748-ef78-5bfa952c9950"
      },
      "execution_count": 17,
      "outputs": [
        {
          "output_type": "display_data",
          "data": {
            "text/plain": [
              "<Figure size 640x480 with 1 Axes>"
            ],
            "image/png": "[encoded data removed]"
          },
          "metadata": {}
        }
      ]
    }
  ]
}